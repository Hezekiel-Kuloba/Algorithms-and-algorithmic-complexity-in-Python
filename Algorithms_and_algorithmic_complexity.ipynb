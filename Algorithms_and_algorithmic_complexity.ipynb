{
  "nbformat": 4,
  "nbformat_minor": 0,
  "metadata": {
    "colab": {
      "provenance": []
    },
    "kernelspec": {
      "name": "python3",
      "display_name": "Python 3"
    },
    "language_info": {
      "name": "python"
    }
  },
  "cells": [
    {
      "cell_type": "markdown",
      "source": [
        "## O(1), constant time,\n",
        "\n",
        "Represents an algorithm that will always execute in the same time, or space, independent of the input size"
      ],
      "metadata": {
        "id": "4ow4594vz0wX"
      }
    },
    {
      "cell_type": "code",
      "source": [
        "def is_first_element_null(elements):\n",
        "    return elements[0] == None"
      ],
      "metadata": {
        "id": "vicJAPy9zKBX"
      },
      "execution_count": 2,
      "outputs": []
    },
    {
      "cell_type": "code",
      "source": [
        "# Example 1: First element is None\n",
        "elements = [None, 1, 2, 3]\n",
        "result = is_first_element_null(elements)\n",
        "print(result)\n",
        "\n",
        "# Example 2: First element is not None\n",
        "elements = [1, 2, 3, 4]\n",
        "result = is_first_element_null(elements)\n",
        "print(result)"
      ],
      "metadata": {
        "colab": {
          "base_uri": "https://localhost:8080/"
        },
        "id": "QSZM41sdzjWB",
        "outputId": "7af2604b-40e2-4184-fbb8-2a944fd403a7"
      },
      "execution_count": 3,
      "outputs": [
        {
          "output_type": "stream",
          "name": "stdout",
          "text": [
            "True\n",
            "False\n"
          ]
        }
      ]
    },
    {
      "cell_type": "markdown",
      "source": [
        "In the above implementation, regardless of the number of elements we input to this function, we will always require a constant number of operations to index and return the required element."
      ],
      "metadata": {
        "id": "4v6IBtumzwW_"
      }
    },
    {
      "cell_type": "markdown",
      "source": [
        "## O(N),\n",
        "\n",
        "Known as linear time, represents an algorithm whose performance will grow linearly and in direct proportion to the size of the *input*"
      ],
      "metadata": {
        "id": "Jl_tmBBo0Sdh"
      }
    },
    {
      "cell_type": "code",
      "source": [
        "def contains_value(elements, string_value):\n",
        "    \"\"\"Run through all elements in the list and compare to string_value.\"\"\"\n",
        "    for e in elements:\n",
        "        if e == string_value:\n",
        "            return True\n",
        "    return False"
      ],
      "metadata": {
        "id": "lLyVHNvJz7T3"
      },
      "execution_count": 4,
      "outputs": []
    },
    {
      "cell_type": "code",
      "source": [
        "elements = ['apple', 'banana', 'cherry', 'date']\n",
        "string_value = 'banana'\n",
        "\n",
        "result = contains_value(elements, string_value)\n",
        "print(result)"
      ],
      "metadata": {
        "colab": {
          "base_uri": "https://localhost:8080/"
        },
        "id": "kU0x8prx1ei4",
        "outputId": "ab9fa8c7-0547-429f-8a64-a8401278a0d4"
      },
      "execution_count": 5,
      "outputs": [
        {
          "output_type": "stream",
          "name": "stdout",
          "text": [
            "True\n"
          ]
        }
      ]
    },
    {
      "cell_type": "code",
      "source": [
        "string_value = 'grape'\n",
        "result = contains_value(elements, string_value)\n",
        "print(result)"
      ],
      "metadata": {
        "colab": {
          "base_uri": "https://localhost:8080/"
        },
        "id": "piVMIgj31lRt",
        "outputId": "8848371b-55e5-4827-ab47-3098dea9de1f"
      },
      "execution_count": 6,
      "outputs": [
        {
          "output_type": "stream",
          "name": "stdout",
          "text": [
            "False\n"
          ]
        }
      ]
    },
    {
      "cell_type": "markdown",
      "source": [
        "The performance of the function is directly dependent on the size of the input or the elements"
      ],
      "metadata": {
        "id": "r9ZUQc6j1xCR"
      }
    },
    {
      "cell_type": "markdown",
      "source": [
        "## O(N2),\n",
        "\n",
        "Known as quadratic time, represents an algorithm whose performance is directly proportional to the square of the size of the input."
      ],
      "metadata": {
        "id": "qaPEO2Ky11OZ"
      }
    },
    {
      "cell_type": "code",
      "source": [
        "def contains_duplicates(elements):\n",
        "    \"\"\"Check if any element in a list occurs more than once\"\"\"\n",
        "    for i, e1 in enumerate(elements):\n",
        "        for j, e2 in enumerate(elements):\n",
        "            \"\"\"return a true if the elements indices are different and the elements are the same\"\"\"\n",
        "            if ((i != j) & (e1 == e2)):\n",
        "                return True\n",
        "    return False"
      ],
      "metadata": {
        "id": "KlkaQD242ZoF"
      },
      "execution_count": 8,
      "outputs": []
    },
    {
      "cell_type": "code",
      "source": [
        "elements_with_duplicates = [1, 2, 3, 4, 5, 2]\n",
        "elements_without_duplicates = [1, 2, 3, 4, 5]\n",
        "\n",
        "result_with_duplicates = contains_duplicates(elements_with_duplicates)\n",
        "print(result_with_duplicates)"
      ],
      "metadata": {
        "colab": {
          "base_uri": "https://localhost:8080/"
        },
        "id": "JZ6oQTLR2Uzq",
        "outputId": "4fdbc196-bb77-49a5-f8da-76cc6531c77c"
      },
      "execution_count": 9,
      "outputs": [
        {
          "output_type": "stream",
          "name": "stdout",
          "text": [
            "True\n"
          ]
        }
      ]
    },
    {
      "cell_type": "code",
      "source": [
        "result_without_duplicates = contains_duplicates(elements_without_duplicates)\n",
        "print(result_without_duplicates)"
      ],
      "metadata": {
        "colab": {
          "base_uri": "https://localhost:8080/"
        },
        "id": "1gspOsim2h6p",
        "outputId": "ca85f39f-5914-4c33-db41-482f30ee372e"
      },
      "execution_count": 10,
      "outputs": [
        {
          "output_type": "stream",
          "name": "stdout",
          "text": [
            "False\n"
          ]
        }
      ]
    },
    {
      "cell_type": "markdown",
      "source": [
        "The time complexity of this function is O(N^2) because for each element in the list, it compares it with every other element in the list. This results in a quadratic growth in time as the number of elements increases. As the number of elements in the list grows, the number of comparisons increases quadratically, leading to a significant increase in the time taken to execute the function, illustrating the O(N^2) time complexity of this function."
      ],
      "metadata": {
        "id": "-9J3ef4k3Ld-"
      }
    },
    {
      "cell_type": "markdown",
      "source": [
        "## O(logN)\n",
        "O(logN) means that time increases linearly while n increases exponentially. This complexity occurs with \"divide and conquer\" algorithms like binary search"
      ],
      "metadata": {
        "id": "R7vMnFap3VD-"
      }
    },
    {
      "cell_type": "code",
      "source": [
        "#Create a binary search algorithm as represented in the image\n",
        "def binary_search(elements, string_val):\n",
        "\n",
        "    if len(elements) == 1:\n",
        "        return 0 if elements[0] == string_val else None\n",
        "\n",
        "    mid = len(elements) // 2\n",
        "    if string_val == elements[mid]:\n",
        "        return mid\n",
        "\n",
        "    if string_val < elements[mid]:\n",
        "        return binary_search(elements[:mid], string_val)\n",
        "    else:\n",
        "        return mid + binary_search(elements[mid:], string_val)"
      ],
      "metadata": {
        "id": "CDDjfpZE3Kp2"
      },
      "execution_count": 11,
      "outputs": []
    },
    {
      "cell_type": "code",
      "source": [
        "#Implement binary_search\n",
        "binary_search([1, 2, 3, 4, 5, 6, 7, 8, 9, 10], 5)"
      ],
      "metadata": {
        "colab": {
          "base_uri": "https://localhost:8080/"
        },
        "id": "IyUFGtOQ30Jn",
        "outputId": "a6a613c6-e7df-4736-b65f-26b4c32d23fd"
      },
      "execution_count": 12,
      "outputs": [
        {
          "output_type": "execute_result",
          "data": {
            "text/plain": [
              "4"
            ]
          },
          "metadata": {},
          "execution_count": 12
        }
      ]
    },
    {
      "cell_type": "markdown",
      "source": [
        "## Search Algorithms"
      ],
      "metadata": {
        "id": "p4FV6ntH-1_G"
      }
    },
    {
      "cell_type": "code",
      "source": [
        "def linear_search(lst, target):\n",
        "    \"\"\"\n",
        "\n",
        "    Args:\n",
        "      lst:\n",
        "      target:\n",
        "\n",
        "    Returns:\n",
        "\n",
        "    \"\"\"\n",
        "    for index, element in enumerate(lst):\n",
        "        if element == target:\n",
        "            return index\n",
        "\n",
        "    return -1  # return the last element if not found"
      ],
      "metadata": {
        "id": "HNPFUphk-sSg"
      },
      "execution_count": 14,
      "outputs": []
    },
    {
      "cell_type": "code",
      "source": [
        "my_list = [1, 3, 5, 7, 9]\n",
        "target_value = 5\n",
        "\n",
        "linear_search(my_list, target_value)"
      ],
      "metadata": {
        "colab": {
          "base_uri": "https://localhost:8080/"
        },
        "id": "n7urjaoGCWCL",
        "outputId": "74949371-eabe-4ef0-cee6-ba1a0385818b"
      },
      "execution_count": 15,
      "outputs": [
        {
          "output_type": "execute_result",
          "data": {
            "text/plain": [
              "2"
            ]
          },
          "metadata": {},
          "execution_count": 15
        }
      ]
    },
    {
      "cell_type": "code",
      "source": [
        "def linear_search_count(lst, target):\n",
        "    count = 0\n",
        "\n",
        "    for element in lst:\n",
        "        if element == target:\n",
        "            count += 1\n",
        "\n",
        "    return count"
      ],
      "metadata": {
        "id": "xXYAmPqUCmJR"
      },
      "execution_count": 16,
      "outputs": []
    },
    {
      "cell_type": "code",
      "source": [
        "my_list = [1, 3, 5, 3, 7, 9, 3]\n",
        "target_value = 3\n",
        "\n",
        "linear_search_count(my_list, target_value)"
      ],
      "metadata": {
        "colab": {
          "base_uri": "https://localhost:8080/"
        },
        "id": "QB-mfYzzCqnB",
        "outputId": "a6393770-9feb-43bb-e4fd-772085bd3088"
      },
      "execution_count": 17,
      "outputs": [
        {
          "output_type": "execute_result",
          "data": {
            "text/plain": [
              "3"
            ]
          },
          "metadata": {},
          "execution_count": 17
        }
      ]
    },
    {
      "cell_type": "markdown",
      "source": [
        "In the above a count variable is initialized to 0 before the loop. Inside the loop, whenever the current element matches the target, the count is incremented. After the loop, the function returns the final count, indicating how many times the target appears in the list."
      ],
      "metadata": {
        "id": "FGnQC9l0Cz6W"
      }
    },
    {
      "cell_type": "code",
      "source": [
        "def binary_search_recur(items, target):\n",
        "\n",
        "    mid = len(items) // 2\n",
        "\n",
        "    if len(items) == 1:\n",
        "        return mid if items[mid] == target else False\n",
        "    elif items[mid] == target:\n",
        "        return mid\n",
        "    else:\n",
        "        if items[mid] < target:\n",
        "            callback_response = binary_search_recur(items[mid:], target)\n",
        "            return mid + callback_response if callback_response is not False else False\n",
        "        else:\n",
        "            return binary_search_recur(items[:mid], target)"
      ],
      "metadata": {
        "id": "38e_ZAE9C24s"
      },
      "execution_count": 18,
      "outputs": []
    },
    {
      "cell_type": "code",
      "source": [
        "my_list = [1, 3, 5, 7, 9, 11, 13, 15, 17]\n",
        "target_value = 13\n",
        "\n",
        "binary_search_recur(my_list, target_value)"
      ],
      "metadata": {
        "colab": {
          "base_uri": "https://localhost:8080/"
        },
        "id": "aE54EQSGDdGE",
        "outputId": "0ff33daa-649a-453d-f663-ff81327027d8"
      },
      "execution_count": 19,
      "outputs": [
        {
          "output_type": "execute_result",
          "data": {
            "text/plain": [
              "6"
            ]
          },
          "metadata": {},
          "execution_count": 19
        }
      ]
    },
    {
      "cell_type": "code",
      "source": [
        "def binary_search_iter(items, target):\n",
        "    start = 0\n",
        "    end = len(items) - 1\n",
        "\n",
        "    while start <= end:\n",
        "        mid = (start + end) // 2\n",
        "\n",
        "        if items[mid] == target:\n",
        "            return mid\n",
        "\n",
        "        if target < items[mid]:\n",
        "            end = mid - 1\n",
        "        else:\n",
        "            start = mid + 1\n",
        "\n",
        "    return False"
      ],
      "metadata": {
        "id": "geuzfObLGVeG"
      },
      "execution_count": 21,
      "outputs": []
    },
    {
      "cell_type": "code",
      "source": [
        "my_list = [1, 3, 5, 7, 9, 11, 13, 15, 17]\n",
        "target_value = 13\n",
        "\n",
        "binary_search_iter(my_list, target_value)"
      ],
      "metadata": {
        "colab": {
          "base_uri": "https://localhost:8080/"
        },
        "id": "KpMUIFjmGbeT",
        "outputId": "5077d62e-15ee-4109-ee0c-92738f4ac6ea"
      },
      "execution_count": 22,
      "outputs": [
        {
          "output_type": "execute_result",
          "data": {
            "text/plain": [
              "6"
            ]
          },
          "metadata": {},
          "execution_count": 22
        }
      ]
    },
    {
      "cell_type": "markdown",
      "source": [
        "# **Sort Algorithms**"
      ],
      "metadata": {
        "id": "zWhj5PaZGlmU"
      }
    },
    {
      "cell_type": "code",
      "source": [
        "# Bubble sort\n",
        "def bubble_sort(items):\n",
        "    n = len(items)\n",
        "    while True:\n",
        "        swapped = False\n",
        "        for i in range(1, n):\n",
        "            if items[i - 1] > items[i]:\n",
        "                items[i - 1], items[i] = items[i], items[i - 1]\n",
        "                swapped = True\n",
        "        if not swapped:\n",
        "            break"
      ],
      "metadata": {
        "id": "avRi4_YpG6kd"
      },
      "execution_count": 1,
      "outputs": []
    },
    {
      "cell_type": "code",
      "source": [
        "my_list = [64, 34, 25, 12, 22, 11, 90]\n",
        "bubble_sort(my_list)\n",
        "print(\"Sorted list:\", my_list)"
      ],
      "metadata": {
        "colab": {
          "base_uri": "https://localhost:8080/"
        },
        "id": "zqTS-VsEE6H0",
        "outputId": "47910ae8-3f9a-4506-b941-4899aafa8309"
      },
      "execution_count": 2,
      "outputs": [
        {
          "output_type": "stream",
          "name": "stdout",
          "text": [
            "Sorted list: [11, 12, 22, 25, 34, 64, 90]\n"
          ]
        }
      ]
    },
    {
      "cell_type": "code",
      "source": [
        "# Insertation sort\n",
        "def insertion_sort(arr):\n",
        "    \"\"\"\n",
        "    Sorts the given array using the insertion sort algorithm.\n",
        "\n",
        "    Args:\n",
        "    arr (list): The array to be sorted.\n",
        "\n",
        "    Returns:\n",
        "    list: The sorted array.\n",
        "    \"\"\"\n",
        "    for i in range(1, len(arr)):\n",
        "        key_item = arr[i]\n",
        "        j = i - 1\n",
        "\n",
        "        # Move elements of arr[0..i-1], that are greater than key_item, to one position ahead of their current position\n",
        "        while j >= 0 and key_item < arr[j]:\n",
        "            arr[j + 1] = arr[j]\n",
        "            j -= 1\n",
        "\n",
        "        # Place key_item in its correct position in the sorted part of the array\n",
        "        arr[j + 1] = key_item\n",
        "\n",
        "    return arr\n"
      ],
      "metadata": {
        "id": "jG5a2mmMFTql"
      },
      "execution_count": 3,
      "outputs": []
    },
    {
      "cell_type": "code",
      "source": [
        "unsorted_array = [5, 2, 8, 1, 9]\n",
        "sorted_array = insertion_sort(unsorted_array)\n",
        "print(sorted_array)"
      ],
      "metadata": {
        "colab": {
          "base_uri": "https://localhost:8080/"
        },
        "id": "XVIodMmuFYm2",
        "outputId": "4dbd56bb-6615-4c72-f874-3ba9ce6cca39"
      },
      "execution_count": 4,
      "outputs": [
        {
          "output_type": "stream",
          "name": "stdout",
          "text": [
            "[1, 2, 5, 8, 9]\n"
          ]
        }
      ]
    },
    {
      "cell_type": "code",
      "source": [
        "# Merge sort\n",
        "def merge_sort(arr):\n",
        "    \"\"\"\n",
        "    Sorts the given array using the Merge Sort algorithm.\n",
        "\n",
        "    Args:\n",
        "    arr (list): The array to be sorted.\n",
        "\n",
        "    Returns:\n",
        "    list: The sorted array.\n",
        "    \"\"\"\n",
        "    if len(arr) > 1:\n",
        "        mid = len(arr) // 2\n",
        "        left = arr[:mid]\n",
        "        right = arr[mid:]\n",
        "\n",
        "        # Recursive call on each half\n",
        "        merge_sort(left)\n",
        "        merge_sort(right)\n",
        "\n",
        "        i = j = k = 0\n",
        "\n",
        "        # Merge the two halves back into the original array\n",
        "        while i < len(left) and j < len(right):\n",
        "            if left[i] <= right[j]:\n",
        "                arr[k] = left[i]\n",
        "                i += 1\n",
        "            else:\n",
        "                arr[k] = right[j]\n",
        "                j += 1\n",
        "            k += 1\n",
        "\n",
        "        # For any remaining elements\n",
        "        while i < len(left):\n",
        "            arr[k] = left[i]\n",
        "            i += 1\n",
        "            k += 1\n",
        "\n",
        "        while j < len(right):\n",
        "            arr[k] = right[j]\n",
        "            j += 1\n",
        "            k += 1\n",
        "\n",
        "    return arr\n"
      ],
      "metadata": {
        "id": "oQ8HzWB-FbIU"
      },
      "execution_count": 6,
      "outputs": []
    },
    {
      "cell_type": "code",
      "source": [
        "unsorted_array = [38, 27, 43, 3, 9, 82, 10]\n",
        "sorted_array = merge_sort(unsorted_array)\n",
        "print(sorted_array)"
      ],
      "metadata": {
        "colab": {
          "base_uri": "https://localhost:8080/"
        },
        "id": "Or-qwe3YF37O",
        "outputId": "d4ff2904-b38f-4ce7-a275-8719b202df4c"
      },
      "execution_count": 7,
      "outputs": [
        {
          "output_type": "stream",
          "name": "stdout",
          "text": [
            "[3, 9, 10, 27, 38, 43, 82]\n"
          ]
        }
      ]
    },
    {
      "cell_type": "code",
      "source": [
        "# Quick sort\n",
        "def quicksort(arr):\n",
        "    \"\"\"\n",
        "    Sorts the given array using the Quicksort algorithm.\n",
        "\n",
        "    Args:\n",
        "    arr (list): The array to be sorted.\n",
        "\n",
        "    Returns:\n",
        "    list: The sorted array.\n",
        "    \"\"\"\n",
        "    if len(arr) <= 1:\n",
        "        return arr\n",
        "    else:\n",
        "        pivot = arr[0]\n",
        "        left = [x for x in arr[1:] if x < pivot]\n",
        "        right = [x for x in arr[1:] if x >= pivot]\n",
        "\n",
        "        return quicksort(left) + [pivot] + quicksort(right)\n"
      ],
      "metadata": {
        "id": "feC3AxLoGIYh"
      },
      "execution_count": 8,
      "outputs": []
    },
    {
      "cell_type": "code",
      "source": [
        "unsorted_array = [38, 27, 43, 3, 9, 82, 10]\n",
        "sorted_array = quicksort(unsorted_array)\n",
        "print(sorted_array)"
      ],
      "metadata": {
        "colab": {
          "base_uri": "https://localhost:8080/"
        },
        "id": "VGBday7LGNlr",
        "outputId": "ace5e133-d77b-4cd2-b85c-c2c8692eb927"
      },
      "execution_count": 9,
      "outputs": [
        {
          "output_type": "stream",
          "name": "stdout",
          "text": [
            "[3, 9, 10, 27, 38, 43, 82]\n"
          ]
        }
      ]
    }
  ]
}